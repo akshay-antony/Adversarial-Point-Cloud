{
 "cells": [
  {
   "cell_type": "code",
   "execution_count": 1,
   "metadata": {},
   "outputs": [
    {
     "name": "stdout",
     "output_type": "stream",
     "text": [
      "Jupyter environment detected. Enabling Open3D WebVisualizer.\n",
      "[Open3D INFO] WebRTC GUI backend enabled.\n",
      "[Open3D INFO] WebRTCWindowSystem: HTTP handshake server disabled.\n"
     ]
    }
   ],
   "source": [
    "from functools import total_ordering\n",
    "import numpy as np\n",
    "import torch\n",
    "import torch.nn as nn\n",
    "from torch.utils.data import DataLoader\n",
    "from torchvision import transforms\n",
    "from transforms import Normalize, PointSampler, RandomNoise, RandRotation_z, ToTensor\n",
    "from dataset import PointCloudData\n",
    "from model import PointNet\n",
    "import open3d as o3d\n",
    "from path import Path\n",
    "import argparse\n",
    "import sklearn\n",
    "from sklearn.metrics import recall_score, precision_score, confusion_matrix\n",
    "from tqdm.notebook import tqdm"
   ]
  },
  {
   "cell_type": "code",
   "execution_count": 2,
   "metadata": {},
   "outputs": [],
   "source": [
    "device = torch.device('cuda' if torch.cuda.is_available() else 'cpu')"
   ]
  },
  {
   "cell_type": "code",
   "execution_count": 3,
   "metadata": {},
   "outputs": [],
   "source": [
    "def fgsm_attack(model, criterion, point, labels, eps) :\n",
    "    point.requires_grad = True\n",
    "    outputs, _, _= model(point.transpose(1,2))\n",
    "    model.zero_grad()\n",
    "    loss = criterion(outputs, labels)\n",
    "    loss.backward()\n",
    "    attack_data = point + eps*point.grad.sign()\n",
    "    return attack_data\n"
   ]
  },
  {
   "cell_type": "code",
   "execution_count": 4,
   "metadata": {},
   "outputs": [],
   "source": [
    "def attack(model, criterion, point, label, eps, pointcloud_form=False):\n",
    "  new_points = fgsm_attack(model, criterion, point, label, eps)\n",
    "  outputs, __, __ = model(new_points.transpose(1,2))\n",
    "  _, preds = torch.max(outputs.data, 1)\n",
    "  if (pointcloud_form):\n",
    "    pointcloud_vis = new_points.detach().cpu().numpy()\n",
    "    pointcloud_vis = pointcloud_vis.reshape(-1,3)\n",
    "    pcd = o3d.geometry.PointCloud()\n",
    "    pcd.points = o3d.utility.Vector3dVector(pointcloud_vis)\n",
    "    o3d.io.write_point_cloud(\"after_attack_new.ply\",pcd)\n",
    "\n",
    "  return preds"
   ]
  },
  {
   "cell_type": "code",
   "execution_count": 5,
   "metadata": {},
   "outputs": [
    {
     "name": "stdout",
     "output_type": "stream",
     "text": [
      "Attacking the pointnet using FGSM with epsilon  0.01\n"
     ]
    },
    {
     "data": {
      "application/vnd.jupyter.widget-view+json": {
       "model_id": "dfeeca9ff7704c48a5b9dc6d75f98e9f",
       "version_major": 2,
       "version_minor": 0
      },
      "text/plain": [
       "  0%|          | 0/15 [00:00<?, ?it/s]"
      ]
     },
     "metadata": {},
     "output_type": "display_data"
    },
    {
     "name": "stdout",
     "output_type": "stream",
     "text": [
      "Batch wise Accuarcy 17.1875\n",
      "Batch wise Accuarcy 18.7500\n",
      "Batch wise Accuarcy 51.5625\n",
      "Batch wise Accuarcy 42.1875\n",
      "Batch wise Accuarcy 1.5625\n",
      "Batch wise Accuarcy 7.8125\n",
      "Batch wise Accuarcy 29.6875\n",
      "Batch wise Accuarcy 25.0000\n",
      "Batch wise Accuarcy 12.5000\n",
      "Batch wise Accuarcy 29.6875\n"
     ]
    }
   ],
   "source": [
    "if __name__ == '__main__':\n",
    "    path = Path(\"ModelNet10\")\n",
    "    train_transforms = transforms.Compose([\n",
    "                    PointSampler(1024),\n",
    "                    Normalize(),\n",
    "                    RandRotation_z(),\n",
    "                    RandomNoise(),\n",
    "                    ToTensor()\n",
    "                    ])\n",
    "\n",
    "    test_dataset = PointCloudData(path, True, \"test\", train_transforms)\n",
    "    model = PointNet()\n",
    "    model = model.train()\n",
    "    model = model.to(device)\n",
    "    model.load_state_dict(torch.load(\"./save.pth\"))\n",
    "    fgsm_dataloader = DataLoader(test_dataset, batch_size=64, shuffle=False)\n",
    "    criterion = nn.NLLLoss()\n",
    "    inv_classes = {i: cat for cat, i in test_dataset.classes.items()};\n",
    "\n",
    "    total_targets = torch.zeros((0))\n",
    "    total_preds = torch.zeros((0))\n",
    "    total_accu = 0\n",
    "    total_data_no = 0\n",
    "\n",
    "    print(\"Attacking the pointnet using FGSM with epsilon \", 0.01)\n",
    "    for i, data in enumerate(tqdm(fgsm_dataloader, position=0, leave=False)):\n",
    "        labels = data['category']\n",
    "        input_cloud = data['pointcloud']\n",
    "        input_cloud = input_cloud.type(torch.FloatTensor)\n",
    "        input_cloud = input_cloud.to(device)\n",
    "        labels = labels.to(device)\n",
    "        torch.cuda.empty_cache()\n",
    "        preds = attack(model, criterion, input_cloud, labels, eps=0.01)\n",
    "        \n",
    "        acc = torch.sum(preds == labels) / preds.shape[0]\n",
    "        total_accu += acc.item() * preds.shape[0]\n",
    "        total_data_no += preds.shape[0]\n",
    "        print(\"Batch wise Accuarcy {0:.4f}\".format(acc.item()*100))\n",
    "        total_preds = torch.cat([total_preds, preds.detach().cpu().squeeze()], dim=0)\n",
    "        total_targets = torch.cat([total_targets, labels.detach().cpu().squeeze()], dim=0)\n",
    "    \n",
    "    total_targets = total_targets.detach().cpu().numpy()\n",
    "    total_preds = total_preds.detach().cpu().numpy()\n",
    "    confus_mat = confusion_matrix(total_targets, total_preds)\n",
    "    recall_sco = recall_score(total_targets, total_preds, average=None)\n",
    "    pre_sco = precision_score(total_targets, total_preds, average=None)\n",
    "print(\"Accuracy: {0:.4f}\".format(total_accu *100 / total_data_no))"
   ]
  },
  {
   "cell_type": "code",
   "execution_count": 15,
   "metadata": {},
   "outputs": [
    {
     "name": "stdout",
     "output_type": "stream",
     "text": [
      "[[ 5  5 15  1  6  2  6  7  2  1]\n",
      " [ 1 23 15  6 10  8  1 19 10  7]\n",
      " [ 0  9 41  1 11  7  5 15  2  9]\n",
      " [ 3 12 18  4  8  6  4 12 12  7]\n",
      " [ 4 10 31  0 10 13  2 10  4  2]\n",
      " [ 3  5 18  0  9 36  3 10  3 13]\n",
      " [ 4 11 36  1  6  4  2  9  8  5]\n",
      " [ 5 12 20  2  7 18  6 20  5  5]\n",
      " [ 4 16 26  5  5  7  9  5 15  8]\n",
      " [ 1  9 27  0 11 14  5 20  3 10]] 0.17360465116279072 0.1828193832599119\n"
     ]
    }
   ],
   "source": [
    "print(confus_mat, recall_sco, pre_sco)"
   ]
  },
  {
   "cell_type": "code",
   "execution_count": null,
   "metadata": {},
   "outputs": [],
   "source": []
  }
 ],
 "metadata": {
  "interpreter": {
   "hash": "42cbedcfe9fa7abca32c3dc942ffa4604ca0ec5f59453c7ca663b4d0fc45e239"
  },
  "kernelspec": {
   "display_name": "Python 3.8.13 ('tait')",
   "language": "python",
   "name": "python3"
  },
  "language_info": {
   "codemirror_mode": {
    "name": "ipython",
    "version": 3
   },
   "file_extension": ".py",
   "mimetype": "text/x-python",
   "name": "python",
   "nbconvert_exporter": "python",
   "pygments_lexer": "ipython3",
   "version": "3.8.13"
  },
  "orig_nbformat": 4
 },
 "nbformat": 4,
 "nbformat_minor": 2
}
